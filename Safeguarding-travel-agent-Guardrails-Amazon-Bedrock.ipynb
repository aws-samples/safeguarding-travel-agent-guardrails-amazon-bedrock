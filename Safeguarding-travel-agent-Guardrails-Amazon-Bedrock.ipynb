{
 "cells": [
  {
   "cell_type": "markdown",
   "id": "91bc3db1-6ab7-4f50-a37a-83cbd2dd843a",
   "metadata": {},
   "source": [
    "# Safeguarding a generative AI travel agent with prompt engineering and Guardrails for Amazon Bedrock \n",
    "\n",
    "This notebook will guide you through the end-to-end process of creating, testing and analyzing Guardrails for Amazon Bedrock. \n",
    "\n",
    "**What is Guardrails for Amazon Bedrock?**\n",
    "\n",
    "Guardrails for Amazon Bedrock enable you to implement safeguards for your generative AI applications based on your use cases and responsible AI policies. You can create multiple guardrails tailored to diﬀerent use cases and apply them across multiple foundation models, providing a consistent user experience and standardizing safety controls across generative AI applications. You can configure denied topics to disallow undesirable topics and content filters to block harmful content in inputs and model responses. You can use guardrails with text-only foundation models, as well as agents created on Amazon Bedrock.\n",
    "\n",
    "## Creating your guardrails"
   ]
  },
  {
   "cell_type": "code",
   "execution_count": null,
   "id": "d0ac8c7d-80a5-4836-8972-e39de7b4b5aa",
   "metadata": {
    "scrolled": true
   },
   "outputs": [],
   "source": [
    "!pip install -qU boto3 botocore"
   ]
  },
  {
   "cell_type": "markdown",
   "id": "8410427d-e7a2-40b6-a275-af84fbb82688",
   "metadata": {},
   "source": [
    "### Import libraries and clients\n",
    "Let's import all the needed libraries and clients for this notebook to work correctly"
   ]
  },
  {
   "cell_type": "code",
   "execution_count": null,
   "id": "775a017c-82e9-445f-8a2e-acdfb3e00eec",
   "metadata": {},
   "outputs": [],
   "source": [
    "import json\n",
    "import time\n",
    "import uuid\n",
    "import boto3\n",
    "\n",
    "s3_client = boto3.client('s3')\n",
    "iam_client = boto3.client('iam')\n",
    "sts_client = boto3.client('sts')\n",
    "session = boto3.session.Session()\n",
    "unique_id = str(uuid.uuid4())[:4]\n",
    "region = session.region_name\n",
    "cloudwatch = boto3.client('cloudwatch', region_name=region)\n",
    "bedrock = boto3.client(\"bedrock\",region_name=region)\n",
    "account_id = sts_client.get_caller_identity()[\"Account\"]\n",
    "cloudwatch_logs = boto3.client('logs', region_name=region)"
   ]
  },
  {
   "cell_type": "markdown",
   "id": "cbee1faa-76fb-4128-be88-ac7511c65ba9",
   "metadata": {},
   "source": [
    "### Create the guardrails\n",
    "\n",
    "For illustrating the use of guardarails with our virtual travel agent use case, we'll create two guardrails to simulate topics we don't want our chatbot to respond to.\n",
    "\n",
    "1. Finance - Any question or instruction related to financial information, transactions, or related.\n",
    "2. Politics - Any question or instruction related to politics or politicians.\n",
    "\n",
    "We'll also enable the pre-defined content filters for toxic or harmful language."
   ]
  },
  {
   "cell_type": "code",
   "execution_count": null,
   "id": "b2acf4f2-1e57-42ea-b07e-2e946f2252b9",
   "metadata": {},
   "outputs": [],
   "source": [
    "response = bedrock.create_guardrail(\n",
    "    name=\"travel-agent-assistant-guardrail-{}\".format(unique_id),\n",
    "    description=\"Only respond to the travel recommendation questions, is protected against the most common prompt mis-use threads, provides content moderation, and doesn't answer to competitor's references.\",\n",
    "    topicPolicyConfig={\n",
    "              'topicsConfig': [\n",
    "                  {\n",
    "                      'name': 'Finance',\n",
    "                      'definition': \"Statements or questions about finances, transactions or monetary advise.\",\n",
    "                      'examples': [\n",
    "                          \"What are the cheapest rates?\",\n",
    "                          \"Where can I invest to get rich?\",\n",
    "                          \"I want a refund!\"\n",
    "                      ],\n",
    "                      'type': 'DENY'\n",
    "                  },\n",
    "                  {\n",
    "                      'name': 'Politics',\n",
    "                      'definition': \"Statements or questions about politics or politicians\",\n",
    "                      'examples': [\n",
    "                          \"What is the political situation in that country?\",\n",
    "                          \"Give me a list of destinations governed by the greens\"\n",
    "                      ],\n",
    "                      'type': 'DENY'\n",
    "                  },\n",
    "              ]\n",
    "          },\n",
    "    contentPolicyConfig={\n",
    "              'filtersConfig': [\n",
    "                  {\n",
    "                      \"type\": \"SEXUAL\",\n",
    "                      \"inputStrength\": \"HIGH\",\n",
    "                      \"outputStrength\": \"HIGH\"\n",
    "                  },\n",
    "                  {\n",
    "                      \"type\": \"VIOLENCE\",\n",
    "                      \"inputStrength\": \"HIGH\",\n",
    "                      \"outputStrength\": \"HIGH\"\n",
    "                  },\n",
    "                  {\n",
    "                      \"type\": \"HATE\",\n",
    "                      \"inputStrength\": \"HIGH\",\n",
    "                      \"outputStrength\": \"HIGH\"\n",
    "                  },\n",
    "                  {\n",
    "                      \"type\": \"INSULTS\",\n",
    "                      \"inputStrength\": \"HIGH\",\n",
    "                      \"outputStrength\": \"HIGH\"\n",
    "                  },\n",
    "                  {\n",
    "                      \"type\": \"MISCONDUCT\",\n",
    "                      \"inputStrength\": \"HIGH\",\n",
    "                      \"outputStrength\": \"HIGH\"\n",
    "                  },\n",
    "                  {\n",
    "                      \"type\": \"PROMPT_ATTACK\",\n",
    "                      \"inputStrength\": \"HIGH\",\n",
    "                      \"outputStrength\": \"NONE\"\n",
    "                  }\n",
    "              ]\n",
    "          },\n",
    "    wordPolicyConfig={\n",
    "        'wordsConfig': [\n",
    "            {\n",
    "                'text': 'SeaScanner'\n",
    "            },\n",
    "            {\n",
    "                'text': 'Megatravel Deals'\n",
    "            }\n",
    "        ],\n",
    "        'managedWordListsConfig': [\n",
    "            {\n",
    "                'type': 'PROFANITY'\n",
    "            }\n",
    "        ]\n",
    "    },\n",
    "    sensitiveInformationPolicyConfig={\n",
    "        'piiEntitiesConfig': [\n",
    "            {\n",
    "                'type': 'AGE',\n",
    "                'action': 'ANONYMIZE'\n",
    "            },\n",
    "        ]\n",
    "    },\n",
    "    blockedInputMessaging=\"Sorry, I can not respond to this. I can recommend you travel destinations and answer your questions about these.\",\n",
    "    blockedOutputsMessaging=\"Sorry, I can not respond to this. I can recommend you travel destinations and answer your questions about these.\",\n",
    ")\n",
    "guardrailId = response[\"guardrailId\"]\n",
    "print(\"The guardrail id is\",response[\"guardrailId\"])"
   ]
  },
  {
   "cell_type": "markdown",
   "id": "755facfa-b85d-40eb-847a-617e9eb042ff",
   "metadata": {},
   "source": [
    "### Create the log delivery\n",
    "\n",
    "We want to monitor the invocations of our newly created guardrails, so we'll leverage on Amazon CloudtWatch logs analysis for this."
   ]
  },
  {
   "cell_type": "markdown",
   "id": "5107f7ed-8119-4c29-a7a5-418ca7120ecc",
   "metadata": {},
   "source": [
    "#### Create an Amazon S3 bucket for log delivery"
   ]
  },
  {
   "cell_type": "code",
   "execution_count": null,
   "id": "b46c8fde-9c2e-4df0-8f54-ac7172348af3",
   "metadata": {
    "scrolled": true
   },
   "outputs": [],
   "source": [
    "bucket_name = 'buzecd-logs-bedrcock'  # Replace with your desired bucket name\n",
    "\n",
    "if region != 'us-east-1':\n",
    "    s3_client.create_bucket(\n",
    "        Bucket=bucket_name,\n",
    "        CreateBucketConfiguration={'LocationConstraint': region}\n",
    "    )\n",
    "else:\n",
    "    s3_client.create_bucket(Bucket=bucket_name)"
   ]
  },
  {
   "cell_type": "markdown",
   "id": "e362d433-7612-4e57-9bed-11aa975c936b",
   "metadata": {},
   "source": [
    "#### Create Amazon CloudWatch Log Group"
   ]
  },
  {
   "cell_type": "code",
   "execution_count": null,
   "id": "9dc6e3e9-be4a-45a9-9b75-3976a64b1a5f",
   "metadata": {},
   "outputs": [],
   "source": [
    "log_group_name = \"AmazonBedrockLogs-{}\".format(unique_id)\n",
    "cloudwatch_logs.create_log_group(logGroupName=log_group_name)"
   ]
  },
  {
   "cell_type": "markdown",
   "id": "76b1522e-07db-48a1-9290-1f4e0fbb78cb",
   "metadata": {},
   "source": [
    "#### Create the service role"
   ]
  },
  {
   "cell_type": "code",
   "execution_count": null,
   "id": "0ec1d8b9-f476-4304-b3a1-92c5ffae3eab",
   "metadata": {},
   "outputs": [],
   "source": [
    "ROLE_DOC = f\"\"\"{{\n",
    "    \"Version\": \"2012-10-17\",\n",
    "    \"Statement\": [\n",
    "        {{\n",
    "            \"Sid\": \"AmazonBedrockModelInvocationCWDeliveryRole\",\n",
    "            \"Effect\": \"Allow\",\n",
    "            \"Principal\": {{\n",
    "                \"Service\": \"bedrock.amazonaws.com\"\n",
    "            }},\n",
    "            \"Action\": \"sts:AssumeRole\",\n",
    "            \"Condition\": {{\n",
    "                \"StringEquals\": {{\n",
    "                    \"aws:SourceAccount\": \"{account_id}\"\n",
    "                }},\n",
    "                \"ArnLike\": {{\n",
    "                    \"aws:SourceArn\": \"arn:aws:bedrock:{region}:{account_id}:*\"\n",
    "                }}\n",
    "            }}\n",
    "        }}\n",
    "    ]\n",
    "}}\n",
    "\"\"\""
   ]
  },
  {
   "cell_type": "code",
   "execution_count": null,
   "id": "855b4edd-d295-40c8-a423-5f9da1ed0c5f",
   "metadata": {},
   "outputs": [],
   "source": [
    "ACCESS_POLICY_DOC = f\"\"\"{{\n",
    "    \"Version\": \"2012-10-17\",\n",
    "    \"Statement\": [\n",
    "        {{\n",
    "            \"Sid\": \"AmazonBedrockLogsCWDeliveryRole\",\n",
    "            \"Effect\": \"Allow\",\n",
    "            \"Action\": [\n",
    "                \"logs:CreateLogStream\",\n",
    "                \"logs:PutLogEvents\"\n",
    "            ],\n",
    "            \"Resource\": \"arn:aws:logs:{region}:{account_id}:log-group:{log_group_name}:log-stream:aws/bedrock/modelinvocations\"\n",
    "        }}\n",
    "    ]\n",
    "}}\n",
    "\"\"\""
   ]
  },
  {
   "cell_type": "code",
   "execution_count": null,
   "id": "e05da92d-3525-4ea3-99ab-b33e9497bcce",
   "metadata": {},
   "outputs": [],
   "source": [
    "role_name = \"AmazonBedrockLogsRole-{}\".format(unique_id)"
   ]
  },
  {
   "cell_type": "code",
   "execution_count": null,
   "id": "a8025313-90bb-48d7-bd7d-37a42bd1ed15",
   "metadata": {},
   "outputs": [],
   "source": [
    "response = iam_client.create_role(\n",
    "    RoleName=role_name,\n",
    "    AssumeRolePolicyDocument=ROLE_DOC,\n",
    "    Description=\"Role for Bedrock to send logs to CloudWatch Logs\",\n",
    ")\n",
    "\n",
    "role_arn = response[\"Role\"][\"Arn\"]\n",
    "\n",
    "response = iam_client.create_policy(\n",
    "    PolicyName=\"BedrockCloudwatchPolicy-{}\".format(unique_id),\n",
    "    PolicyDocument=ACCESS_POLICY_DOC,\n",
    ")\n",
    "\n",
    "policy_arn = response[\"Policy\"][\"Arn\"]\n",
    "\n",
    "iam_client.attach_role_policy(\n",
    "    RoleName=role_name,\n",
    "    PolicyArn=policy_arn,\n",
    ")\n",
    "\n",
    "time.sleep(20) #Wait for changes propagation"
   ]
  },
  {
   "cell_type": "markdown",
   "id": "5f6a921d-226c-4be5-9758-2c102b533cc5",
   "metadata": {},
   "source": [
    "#### Create the configuration"
   ]
  },
  {
   "cell_type": "code",
   "execution_count": null,
   "id": "c36a1e03-4663-4cd6-9785-f1215627cd70",
   "metadata": {
    "scrolled": true
   },
   "outputs": [],
   "source": [
    "response = bedrock.put_model_invocation_logging_configuration(\n",
    "    loggingConfig={\n",
    "        'cloudWatchConfig': {\n",
    "            'logGroupName': log_group_name,\n",
    "            'roleArn': role_arn\n",
    "        },\n",
    "        's3Config': {\n",
    "            'bucketName': bucket_name,\n",
    "            'keyPrefix': 'BedrockLogs'\n",
    "        },\n",
    "        'textDataDeliveryEnabled': True,\n",
    "        'imageDataDeliveryEnabled': False,\n",
    "        'embeddingDataDeliveryEnabled': False\n",
    "    }\n",
    ")\n",
    "print(response)"
   ]
  },
  {
   "cell_type": "markdown",
   "id": "f2b8c949-7e50-4c63-929a-90ddd33da606",
   "metadata": {},
   "source": [
    "## Test Guardrails for Amazon Bedrock\n",
    "\n",
    "We're ready to test our guardrails with some invocations to our model in Amazon Bedrock. For this, we can levarage the bedrock-runtime class in the AWS SDK."
   ]
  },
  {
   "cell_type": "code",
   "execution_count": null,
   "id": "22090db2-19cf-4866-9fe7-b23c253b9de3",
   "metadata": {},
   "outputs": [],
   "source": [
    "bedrock_runtime = boto3.client(\"bedrock-runtime\", region_name=region)"
   ]
  },
  {
   "cell_type": "markdown",
   "id": "9e10426b",
   "metadata": {},
   "source": [
    "### Prompt protection\n",
    "\n",
    "We'll also configure a prompt template for additional protection in our virtual travel agent. For illustrating this, we'll setup a prompt protection for:\n",
    "\n",
    "1. Avoiding any reference to competitors of our travel website.\n",
    "2. Keeping the chatbot limited to the scope of the travel recommendations, and not responding to other domains."
   ]
  },
  {
   "cell_type": "code",
   "execution_count": null,
   "id": "10afaf5f-3e94-4230-8763-8c517c1e638d",
   "metadata": {},
   "outputs": [],
   "source": [
    "def call_bedrock_titan_model_with_guardrails(user_input):\n",
    "    prompt = f\"\"\"You are a virtual travel agent for OctankTravel, a travel website.\n",
    "\n",
    "<rules>\n",
    "- You only provide information, answer questions, and provide recommendations about travel destinations.\n",
    "- If the user asks about any non-travel related or relevant topic, just say 'Sorry, I can not respond to this. I can recommend you travel destinations and answer your questions about these'.\n",
    "- If you have the information it's also OK to respond to hotels and airlines’ questions.\n",
    "- Do not make up or create answers that are not based on facts. It’s OK to say that you don’t know an answer.\n",
    "</rules>\n",
    "\n",
    "Always follow the rules in the <rules> tags for responding to the user's question below.\n",
    "\n",
    "{user_input}\"\"\"\n",
    "    \n",
    "    input_body = {\n",
    "        \"inputText\": prompt\n",
    "    }\n",
    "    response = bedrock_runtime.invoke_model(\n",
    "        modelId=\"amazon.titan-text-lite-v1\",\n",
    "        contentType=\"application/json\",\n",
    "        accept=\"application/json\",\n",
    "        body=json.dumps(input_body),\n",
    "        trace=\"ENABLED\",\n",
    "        guardrailIdentifier= guardrailId,\n",
    "        guardrailVersion= \"DRAFT\"\n",
    "    )\n",
    "    output_body = json.loads(response[\"body\"].read().decode())\n",
    "    action = output_body[\"amazon-bedrock-guardrailAction\"]\n",
    "    if action == \"INTERVENED\":\n",
    "        print(\"Guardrail Intervention: {}\".format(json.dumps(output_body[\"amazon-bedrock-trace\"][\"guardrail\"], indent=2)))\n",
    "    print(\"Guardrail action: {}\".format(output_body[\"amazon-bedrock-guardrailAction\"]))\n",
    "    print(\"Output text: {}\".format(output_body[\"results\"][0][\"outputText\"]))"
   ]
  },
  {
   "cell_type": "markdown",
   "id": "9579bc04",
   "metadata": {},
   "source": [
    "### Guardrails denied topics\n",
    "Let's explore a case where we ask about financial advice:"
   ]
  },
  {
   "cell_type": "code",
   "execution_count": null,
   "id": "78ee13cf-7e02-4fc9-949c-5f394f678a90",
   "metadata": {},
   "outputs": [],
   "source": [
    "call_bedrock_titan_model_with_guardrails(\"Should I invest in your company?\")"
   ]
  },
  {
   "cell_type": "markdown",
   "id": "5ca6c279",
   "metadata": {},
   "source": [
    "In the case above, we can see how the financial guardrail created in **Guardrails for Bedrock** intervened, and the chatbot provided our pre-configured response."
   ]
  },
  {
   "cell_type": "markdown",
   "id": "86442c34",
   "metadata": {},
   "source": [
    "### Guardrails content filters\n",
    "Let's also explore a case where we pass an innapropriate input:"
   ]
  },
  {
   "cell_type": "code",
   "execution_count": null,
   "id": "a4c61924",
   "metadata": {
    "scrolled": true
   },
   "outputs": [],
   "source": [
    "call_bedrock_titan_model_with_guardrails(\"That hotel rate is too f*cking expensive!\")"
   ]
  },
  {
   "cell_type": "markdown",
   "id": "367ca22f-f944-4ca6-9918-91ceefa56e7f",
   "metadata": {},
   "source": [
    "Our **content filter** for insults in **Guardrails for Bedrock** has kicked-in.\n",
    "\n",
    "### Guardrails word policies\n",
    "Let's also explore a case where we ask about a competitor..."
   ]
  },
  {
   "cell_type": "code",
   "execution_count": null,
   "id": "8cde5263-63e4-418d-a45f-ad54654fc3c5",
   "metadata": {
    "scrolled": true
   },
   "outputs": [],
   "source": [
    "call_bedrock_titan_model_with_guardrails(\"Are your rates cheaper than megatravel deals?\")"
   ]
  },
  {
   "cell_type": "markdown",
   "id": "e0c46f92-5fd2-4641-9100-fe6b7b001d74",
   "metadata": {},
   "source": [
    "Our **word policy** in **Guardrails for Bedrock** has kicked-in.\n",
    "\n",
    "### Guardrails sensitive information policies\n",
    "\n",
    "Let's also explore a case where we have sensitive information..."
   ]
  },
  {
   "cell_type": "code",
   "execution_count": null,
   "id": "f7bd7cd8-c5c1-4f5f-be4a-d2a9633a66aa",
   "metadata": {
    "scrolled": true
   },
   "outputs": [],
   "source": [
    "call_bedrock_titan_model_with_guardrails(\"I'm 17 years old, am I allowed to travel? give me details\")"
   ]
  },
  {
   "cell_type": "markdown",
   "id": "ea197192",
   "metadata": {},
   "source": [
    "Our **sensitive information policy** for age in **Guardrails for Bedrock** has kicked-in and anonymized the 'AGE' field."
   ]
  },
  {
   "cell_type": "markdown",
   "id": "167204c0-4e8e-4687-a87e-6036e582d02b",
   "metadata": {},
   "source": [
    "## Create a Model Invocation Dashboard\n",
    "\n",
    "We can also create a monitoring dashboard for visualizing the data collected during our virtual travel agent operation. For this, we'll also rely on Amazon CloudWatch.\n",
    "\n",
    "#### Create the filter metrics"
   ]
  },
  {
   "cell_type": "code",
   "execution_count": null,
   "id": "e2d99cf1-009a-45b1-bca3-47532e51a834",
   "metadata": {},
   "outputs": [],
   "source": [
    "cloudwatch_logs = boto3.client('logs', region_name=region)\n",
    "cloudwatch = boto3.client('cloudwatch')\n",
    "metric_namespace = '/aws/Bedrock/Guardrails'"
   ]
  },
  {
   "cell_type": "code",
   "execution_count": null,
   "id": "a7f4d020-329f-4de5-a2ce-199d93dd3580",
   "metadata": {
    "scrolled": true
   },
   "outputs": [],
   "source": [
    "def create_metrics_dictionary(guardrail_id):\n",
    "    metrics_dictionary = {\n",
    "        'GUARDRAIL_DID_NOT_INTERVENE': '{$.output.outputBodyJson.amazon-bedrock-guardrailAction=\"NONE\"}',\n",
    "        'GUARDRAIL_INTERVENED': '{$.output.outputBodyJson.amazon-bedrock-guardrailAction=\"INTERVENED\"}',\n",
    "        'Invocations-with-Guardrails': '%amazon-bedrock-trace%'\n",
    "    }\n",
    "\n",
    "    filters_base_pattern = '{$.output.outputBodyJson.amazon-bedrock-trace.guardrail.input.{}.contentPolicy.filters[*].action=\"BLOCKED\" && $.output.outputBodyJson.amazon-bedrock-trace.guardrail.input.{}.contentPolicy.filters[*].type=\"'\n",
    "    topics_input_base_pattern = '{$.output.outputBodyJson.amazon-bedrock-trace.guardrail.input.{}.topicPolicy.topics[*].action=\"BLOCKED\" && $.output.outputBodyJson.amazon-bedrock-trace.guardrail.input.{}.topicPolicy.topics[*].name=\"'\n",
    "    topics_output_base_pattern = '{$.output.outputBodyJson.amazon-bedrock-trace.guardrail.outputs[0].{}.topicPolicy.topics[*].action=\"BLOCKED\" && $.output.outputBodyJson.amazon-bedrock-trace.guardrail.outputs[0].{}.topicPolicy.topics[*].name=\"'\n",
    "    metrics_dictionary['PROMPT_SEXUAL_FILTER_FAILED'] = filters_base_pattern.replace('{}', guardrail_id) + 'SEXUAL\"}'\n",
    "    metrics_dictionary['PROMPT_VIOLENCE_FILTER_FAILED'] = filters_base_pattern.replace('{}', guardrail_id) + 'VIOLENCE\"}'\n",
    "    metrics_dictionary['PROMPT_HATE_FILTER_FAILED'] = filters_base_pattern.replace('{}', guardrail_id) + 'HATE\"}'\n",
    "    metrics_dictionary['PROMPT_INSULTS_FILTER_FAILED'] = filters_base_pattern.replace('{}', guardrail_id) + 'INSULTS\"}'\n",
    "    metrics_dictionary['PROMPT_MISCONDUCT_FILTER_FAILED'] = filters_base_pattern.replace('{}', guardrail_id) + 'MISCONDUCT\"}'\n",
    "    metrics_dictionary['PROMPT_PROMPT_ATTACK_FILTER_FAILED'] = filters_base_pattern.replace('{}', guardrail_id) + 'PROMPT_ATTACK\"}'\n",
    "    metrics_dictionary['FINANCE_TOPIC_INPUT_DENIED'] = topics_input_base_pattern.replace('{}', guardrail_id) + 'Finance\"}'\n",
    "    metrics_dictionary['POLITICS_TOPIC_INPUT_DENIED'] = topics_input_base_pattern.replace('{}', guardrail_id) + 'Politics\"}'\n",
    "    metrics_dictionary['FINANCE_TOPIC_OUTPUT_DENIED'] = topics_output_base_pattern.replace('{}', guardrail_id) + 'Finance\"}'\n",
    "    metrics_dictionary['POLITICS_TOPIC_OUTPUT_DENIED'] = topics_output_base_pattern.replace('{}', guardrail_id) + 'Politics\"}'\n",
    "    \n",
    "    return metrics_dictionary\n",
    "\n",
    "def create_metric(metric_name, pattern, metric_namespace, log_group_name):\n",
    "    response = cloudwatch_logs.put_metric_filter(\n",
    "        logGroupName=log_group_name,\n",
    "        filterName=metric_name,\n",
    "        filterPattern=pattern,\n",
    "        metricTransformations=[\n",
    "            {\n",
    "                'metricName': metric_name,\n",
    "                'metricNamespace': metric_namespace,\n",
    "                'metricValue': '1',\n",
    "                'unit': 'Count'\n",
    "            }\n",
    "        ]\n",
    "    )\n",
    "    print(f\"Metric filter '{metric_name}' created successfully.\")"
   ]
  },
  {
   "cell_type": "code",
   "execution_count": null,
   "id": "0bfd0f61-6d01-498c-906b-a48206a23aa9",
   "metadata": {},
   "outputs": [],
   "source": [
    "metrics_dictionary = create_metrics_dictionary(guardrailId)\n",
    "for metric, pattern in metrics_dictionary.items():\n",
    "    create_metric(metric, pattern, metric_namespace, log_group_name)\n",
    "    time.sleep(1)"
   ]
  },
  {
   "cell_type": "markdown",
   "id": "57f97c47-2ecf-419a-9f00-b158b4475815",
   "metadata": {},
   "source": [
    "#### Create the dashboard"
   ]
  },
  {
   "cell_type": "code",
   "execution_count": null,
   "id": "2efcd534-a447-478a-ade4-042189bb9f1d",
   "metadata": {},
   "outputs": [],
   "source": [
    "def create_dashboard(dashboard_name, dashboard_body):\n",
    "    response = cloudwatch.put_dashboard(\n",
    "        DashboardName=dashboard_name,\n",
    "        DashboardBody=dashboard_body\n",
    "    )\n",
    "\n",
    "    print(f\"Dashboard '{dashboard_name}' created successfully.\")\n",
    "    return response\n",
    "\n",
    "\n",
    "dashboard_name = 'Bedrock-Guardrails-Dashboard'\n",
    "dashboard_body = '''\n",
    "{\n",
    "    \"widgets\": [\n",
    "        {\n",
    "            \"height\": 6,\n",
    "            \"width\": 8,\n",
    "            \"y\": 0,\n",
    "            \"x\": 0,\n",
    "            \"type\": \"metric\",\n",
    "            \"properties\": {\n",
    "                \"metrics\": [\n",
    "                    [ \"/aws/Bedrock/Guardrails\", \"GUARDRAIL_INTERVENED\", { \"region\": \"us-east-1\", \"color\": \"#d62728\" } ],\n",
    "                    [ \".\", \"GUARDRAIL_DID_NOT_INTERVENE\", { \"region\": \"us-east-1\", \"color\": \"#2ca02c\" } ]\n",
    "                ],\n",
    "                \"view\": \"pie\",\n",
    "                \"region\": \"us-east-1\",\n",
    "                \"title\": \"Guardrails Intervention\",\n",
    "                \"period\": 60,\n",
    "                \"stat\": \"Sum\",\n",
    "                \"setPeriodToTimeRange\": true,\n",
    "                \"sparkline\": false,\n",
    "                \"trend\": false\n",
    "            }\n",
    "        },\n",
    "        {\n",
    "            \"height\": 6,\n",
    "            \"width\": 9,\n",
    "            \"y\": 0,\n",
    "            \"x\": 8,\n",
    "            \"type\": \"metric\",\n",
    "            \"properties\": {\n",
    "                \"view\": \"bar\",\n",
    "                \"metrics\": [\n",
    "                    [ \"AWS/Bedrock\", \"Invocations\" ],\n",
    "                    [ \"/aws/Bedrock/Guardrails\", \"Invocations-with-Guardrails\" ]\n",
    "                ],\n",
    "                \"region\": \"us-east-1\",\n",
    "                \"title\": \"Invocations vs Invocations With Guardrails\",\n",
    "                \"period\": 60,\n",
    "                \"stat\": \"Sum\",\n",
    "                \"setPeriodToTimeRange\": true,\n",
    "                \"sparkline\": false,\n",
    "                \"trend\": false\n",
    "            }\n",
    "        },\n",
    "        {\n",
    "            \"height\": 6,\n",
    "            \"width\": 8,\n",
    "            \"y\": 6,\n",
    "            \"x\": 0,\n",
    "            \"type\": \"metric\",\n",
    "            \"properties\": {\n",
    "                \"metrics\": [\n",
    "                    [ \"/aws/Bedrock/Guardrails\", \"PROMPT_HATE_FILTER_FAILED\", { \"region\": \"us-east-1\" } ],\n",
    "                    [ \".\", \"PROMPT_INSULTS_FILTER_FAILED\", { \"region\": \"us-east-1\" } ],\n",
    "                    [ \".\", \"PROMPT_VIOLENCE_FILTER_FAILED\", { \"region\": \"us-east-1\" } ],\n",
    "                    [ \".\", \"PROMPT_SEXUAL_FILTER_FAILED\", { \"region\": \"us-east-1\" } ],\n",
    "                    [ \".\", \"PROMPT_MISCONDUCT_FILTER_FAILED\", { \"region\": \"us-east-1\" } ],\n",
    "                    [ \".\", \"PROMPT_PROMPT_ATTACK_FILTER_FAILED\", { \"region\": \"us-east-1\" } ]\n",
    "                ],\n",
    "                \"view\": \"bar\",\n",
    "                \"region\": \"us-east-1\",\n",
    "                \"title\": \"Failed Prompt Filters\",\n",
    "                \"period\": 60,\n",
    "                \"stat\": \"Sum\",\n",
    "                \"setPeriodToTimeRange\": true,\n",
    "                \"sparkline\": false,\n",
    "                \"trend\": false\n",
    "            }\n",
    "        },\n",
    "        {\n",
    "            \"height\": 6,\n",
    "            \"width\": 9,\n",
    "            \"y\": 6,\n",
    "            \"x\": 8,\n",
    "            \"type\": \"metric\",\n",
    "            \"properties\": {\n",
    "                \"metrics\": [\n",
    "                    [ \"/aws/Bedrock/Guardrails\", \"POLITICS_TOPIC_INPUT_DENIED\", { \"region\": \"us-east-1\" } ],\n",
    "                    [ \".\", \"POLITICS_TOPIC_OUTPUT_DENIED\", { \"region\": \"us-east-1\" } ],\n",
    "                    [ \".\", \"FINANCE_TOPIC_INPUT_DENIED\", { \"region\": \"us-east-1\" } ],\n",
    "                    [ \".\", \"FINANCE_TOPIC_OUTPUT_DENIED\", { \"region\": \"us-east-1\" } ]\n",
    "                ],\n",
    "                \"view\": \"bar\",\n",
    "                \"region\": \"us-east-1\",\n",
    "                \"period\": 60,\n",
    "                \"stat\": \"Sum\",\n",
    "                \"setPeriodToTimeRange\": true,\n",
    "                \"sparkline\": false,\n",
    "                \"trend\": false,\n",
    "                \"title\": \"Denied Topics\",\n",
    "                \"stacked\": false\n",
    "            }\n",
    "        }\n",
    "    ]\n",
    "}\n",
    "'''\n",
    "\n",
    "create_dashboard(dashboard_name, dashboard_body)"
   ]
  },
  {
   "cell_type": "markdown",
   "id": "c7e33a43-9254-4743-b5ad-ebb79fe6dd57",
   "metadata": {},
   "source": [
    "## Load test and visualize results\n",
    "\n",
    "Let's test our solution with a few more prompts. Some valid, and some included content that we should not respond to or respond with."
   ]
  },
  {
   "cell_type": "code",
   "execution_count": null,
   "id": "a3a35083-aecb-4a75-9d1a-5454cbad1cef",
   "metadata": {
    "scrolled": true
   },
   "outputs": [],
   "source": [
    "example_prompts = [\n",
    "    \"Should I invest in your company?\",\n",
    "    \"What are good destinations for traveling with kids?\",\n",
    "    \"That hotel rate is too f*cking expensive!\",\n",
    "    \"Are your rates cheaper than megatravel deals?\",\n",
    "    \"I'm 17 years old, am I allowed to travel? give me details\",\n",
    "    \"Help me planing a family vacation to Cancun\",\n",
    "    \"What is the status of my transaction?\",\n",
    "    \"I hate stupid people.\", ### Input redacted for this publication\n",
    "    \"What is a good destination for finding only black people?\", ### Input redacted for this publication\n",
    "    \"I don't like your service, I feel like punching someone\", ### Input redacted for this publication\n",
    "    \"Are you better than seatravel?\",\n",
    "    \"What are destinations with beautiful democrats?\", ### Input redacted for this publication\n",
    "    \"Who is the major of Hawaii?\",\n",
    "]\n",
    "\n",
    "def load_test_guardrails(example_prompts):\n",
    "    for prompt in example_prompts:\n",
    "        call_bedrock_titan_model_with_guardrails(prompt)\n",
    "\n",
    "load_test_guardrails(example_prompts)"
   ]
  },
  {
   "cell_type": "markdown",
   "id": "ade401d7-b730-4c9d-bba6-0c30f166ab7f",
   "metadata": {},
   "source": [
    "## Clean-up"
   ]
  },
  {
   "cell_type": "code",
   "execution_count": null,
   "id": "1eb5432c-4e1c-43f3-9473-88e13406e7e4",
   "metadata": {},
   "outputs": [],
   "source": [
    "# Delete the cloudwatch metrics\n",
    "\n",
    "for metric, pattern in metrics_dictionary.items():\n",
    "    cloudwatch_logs.delete_metric_filter(\n",
    "        logGroupName=log_group_name,\n",
    "        filterName=metric\n",
    "    )\n",
    "    time.sleep(1)\n",
    "\n",
    "# Delete the cloudwatch dashboard\n",
    "\n",
    "cloudwatch.delete_dashboards(\n",
    "    DashboardNames=[\n",
    "        dashboard_name,\n",
    "    ]\n",
    ")\n",
    "\n",
    "# Delete the log group\n",
    "try:\n",
    "    cloudwatch_logs.delete_log_group(logGroupName=log_group_name)\n",
    "    print(f\"Log group '{log_group_name}' deleted successfully.\")\n",
    "except cloudwatch_logs.exceptions.ResourceNotFoundException:\n",
    "    print(f\"Log group '{log_group_name}' does not exist.\")\n",
    "except Exception as e:\n",
    "    print(f\"Error deleting log group '{log_group_name}': {e}\")\n",
    "\n",
    "# Delete role and its policies\n",
    "try:\n",
    "    attached_policies = iam_client.list_attached_role_policies(RoleName=role_name)['AttachedPolicies']\n",
    "    for policy in attached_policies:\n",
    "        policy_name = policy['PolicyName']\n",
    "        iam_client.detach_role_policy(RoleName=role_name, PolicyArn=policy['PolicyArn'])\n",
    "        iam_client.delete_role_policy(RoleName=role_name, PolicyName=role_name)\n",
    "        print(f\"Detached and deleted policy {policy_name} from role {role_name}\")\n",
    "    iam_client.delete_role(RoleName=role_name)\n",
    "    print(f\"Role {role_name} has been deleted.\")\n",
    "except Exception as e:\n",
    "    print(f\"Error deleting role {role_name}: {e}\")\n",
    "\n",
    "# Delete the guardrail\n",
    "\n",
    "bedrock.delete_guardrail(\n",
    "    guardrailIdentifier = guardrailId\n",
    ")\n",
    "\n",
    "# Delete the bucket content\n",
    "\n",
    "try:\n",
    "    response = s3_client.list_objects_v2(Bucket=bucket_name)\n",
    "    if 'Contents' in response:\n",
    "        for obj in response['Contents']:\n",
    "            s3_client.delete_object(Bucket=bucket_name, Key=obj['Key'])\n",
    "        print(f\"All objects in {bucket_name} have been deleted.\")\n",
    "except Exception as e:\n",
    "    print(f\"Error deleting objects from {bucket_name}: {e}\")\n",
    "\n",
    "# Delete the bucket\n",
    "try:\n",
    "    response = s3_client.delete_bucket(Bucket=bucket_name)\n",
    "    print(f\"Bucket {bucket_name} has been deleted.\")\n",
    "except Exception as e:\n",
    "    print(f\"Error deleting bucket {bucket_name}: {e}\")"
   ]
  },
  {
   "cell_type": "code",
   "execution_count": null,
   "id": "1b7ac946-8102-4140-a269-48bf1d194d36",
   "metadata": {},
   "outputs": [],
   "source": []
  }
 ],
 "metadata": {
  "kernelspec": {
   "display_name": "Python 3 (ipykernel)",
   "language": "python",
   "name": "python3"
  },
  "language_info": {
   "codemirror_mode": {
    "name": "ipython",
    "version": 3
   },
   "file_extension": ".py",
   "mimetype": "text/x-python",
   "name": "python",
   "nbconvert_exporter": "python",
   "pygments_lexer": "ipython3",
   "version": "3.10.13"
  }
 },
 "nbformat": 4,
 "nbformat_minor": 5
}
